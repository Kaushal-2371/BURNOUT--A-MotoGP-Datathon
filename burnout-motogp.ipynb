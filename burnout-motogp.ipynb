{
 "cells": [
  {
   "cell_type": "code",
   "execution_count": 1,
   "id": "0e4ca199",
   "metadata": {
    "_cell_guid": "b1076dfc-b9ad-4769-8c92-a6c4dae69d19",
    "_uuid": "8f2839f25d086af736a60e9eeb907d3b93b6e0e5",
    "execution": {
     "iopub.execute_input": "2025-06-14T16:57:46.603917Z",
     "iopub.status.busy": "2025-06-14T16:57:46.603600Z",
     "iopub.status.idle": "2025-06-14T16:57:48.442349Z",
     "shell.execute_reply": "2025-06-14T16:57:48.441132Z"
    },
    "papermill": {
     "duration": 1.846268,
     "end_time": "2025-06-14T16:57:48.444256",
     "exception": false,
     "start_time": "2025-06-14T16:57:46.597988",
     "status": "completed"
    },
    "tags": []
   },
   "outputs": [
    {
     "name": "stdout",
     "output_type": "stream",
     "text": [
      "/kaggle/input/burnout-datathon-ieeecsmuj/sample_submission.csv\n",
      "/kaggle/input/burnout-datathon-ieeecsmuj/val.csv\n",
      "/kaggle/input/burnout-datathon-ieeecsmuj/train.csv\n",
      "/kaggle/input/burnout-datathon-ieeecsmuj/test.csv\n"
     ]
    }
   ],
   "source": [
    "# This Python 3 environment comes with many helpful analytics libraries installed\n",
    "# It is defined by the kaggle/python Docker image: https://github.com/kaggle/docker-python\n",
    "# For example, here's several helpful packages to load\n",
    "\n",
    "import numpy as np # linear algebra\n",
    "import pandas as pd # data processing, CSV file I/O (e.g. pd.read_csv)\n",
    "\n",
    "# Input data files are available in the read-only \"../input/\" directory\n",
    "# For example, running this (by clicking run or pressing Shift+Enter) will list all files under the input directory\n",
    "\n",
    "import os\n",
    "for dirname, _, filenames in os.walk('/kaggle/input'):\n",
    "    for filename in filenames:\n",
    "        print(os.path.join(dirname, filename))\n",
    "\n",
    "# You can write up to 20GB to the current directory (/kaggle/working/) that gets preserved as output when you create a version using \"Save & Run All\" \n",
    "# You can also write temporary files to /kaggle/temp/, but they won't be saved outside of the current session"
   ]
  },
  {
   "cell_type": "code",
   "execution_count": 2,
   "id": "7c61abf5",
   "metadata": {
    "execution": {
     "iopub.execute_input": "2025-06-14T16:57:48.452920Z",
     "iopub.status.busy": "2025-06-14T16:57:48.452409Z",
     "iopub.status.idle": "2025-06-14T16:58:09.116293Z",
     "shell.execute_reply": "2025-06-14T16:58:09.115346Z"
    },
    "papermill": {
     "duration": 20.670128,
     "end_time": "2025-06-14T16:58:09.118370",
     "exception": false,
     "start_time": "2025-06-14T16:57:48.448242",
     "status": "completed"
    },
    "tags": []
   },
   "outputs": [],
   "source": [
    "df = pd.read_csv(\"/kaggle/input/burnout-datathon-ieeecsmuj/train.csv\")\n",
    "val = pd.read_csv(\"/kaggle/input/burnout-datathon-ieeecsmuj/val.csv\")"
   ]
  },
  {
   "cell_type": "code",
   "execution_count": 3,
   "id": "33d2c416",
   "metadata": {
    "execution": {
     "iopub.execute_input": "2025-06-14T16:58:09.126835Z",
     "iopub.status.busy": "2025-06-14T16:58:09.126471Z",
     "iopub.status.idle": "2025-06-14T16:58:16.780675Z",
     "shell.execute_reply": "2025-06-14T16:58:16.779679Z"
    },
    "papermill": {
     "duration": 7.66045,
     "end_time": "2025-06-14T16:58:16.782499",
     "exception": false,
     "start_time": "2025-06-14T16:58:09.122049",
     "status": "completed"
    },
    "tags": []
   },
   "outputs": [],
   "source": [
    "import pandas as pd\n",
    "import numpy as np\n",
    "import matplotlib.pyplot as plt\n",
    "import seaborn as sns\n",
    "import lightgbm as lgb\n",
    "from sklearn.model_selection import train_test_split\n",
    "from sklearn.preprocessing import StandardScaler, OneHotEncoder\n",
    "from sklearn.compose import ColumnTransformer\n",
    "from sklearn.metrics import mean_squared_error\n",
    "from sklearn.utils import shuffle\n",
    "from tqdm import tqdm"
   ]
  },
  {
   "cell_type": "markdown",
   "id": "f519f27a",
   "metadata": {
    "papermill": {
     "duration": 0.002719,
     "end_time": "2025-06-14T16:58:16.788612",
     "exception": false,
     "start_time": "2025-06-14T16:58:16.785893",
     "status": "completed"
    },
    "tags": []
   },
   "source": [
    "# EDA"
   ]
  },
  {
   "cell_type": "code",
   "execution_count": 4,
   "id": "564c61a5",
   "metadata": {
    "execution": {
     "iopub.execute_input": "2025-06-14T16:58:16.796021Z",
     "iopub.status.busy": "2025-06-14T16:58:16.795392Z",
     "iopub.status.idle": "2025-06-14T16:58:16.809234Z",
     "shell.execute_reply": "2025-06-14T16:58:16.808231Z"
    },
    "papermill": {
     "duration": 0.019195,
     "end_time": "2025-06-14T16:58:16.810718",
     "exception": false,
     "start_time": "2025-06-14T16:58:16.791523",
     "status": "completed"
    },
    "tags": []
   },
   "outputs": [
    {
     "data": {
      "text/plain": [
       "Unique ID                            int64\n",
       "Rider_ID                             int64\n",
       "category_x                          object\n",
       "Circuit_Length_km                  float64\n",
       "Laps                                 int64\n",
       "Grid_Position                        int64\n",
       "Avg_Speed_kmh                      float64\n",
       "Track_Condition                     object\n",
       "Humidity_%                           int64\n",
       "Tire_Compound_Front                 object\n",
       "Tire_Compound_Rear                  object\n",
       "Penalty                             object\n",
       "Championship_Points                  int64\n",
       "Championship_Position                int64\n",
       "Session                             object\n",
       "year_x                               int64\n",
       "sequence                             int64\n",
       "rider                                int64\n",
       "team                                 int64\n",
       "bike                                 int64\n",
       "position                             int64\n",
       "points                             float64\n",
       "shortname                           object\n",
       "circuit_name                        object\n",
       "rider_name                          object\n",
       "team_name                           object\n",
       "bike_name                           object\n",
       "Lap_Time_Seconds                   float64\n",
       "Corners_per_Lap                      int64\n",
       "Tire_Degradation_Factor_per_Lap    float64\n",
       "Pit_Stop_Duration_Seconds          float64\n",
       "Ambient_Temperature_Celsius        float64\n",
       "Track_Temperature_Celsius          float64\n",
       "weather                             object\n",
       "track                               object\n",
       "air                                  int64\n",
       "ground                               int64\n",
       "starts                               int64\n",
       "finishes                             int64\n",
       "with_points                          int64\n",
       "podiums                              int64\n",
       "wins                                 int64\n",
       "min_year                             int64\n",
       "max_year                             int64\n",
       "years_active                         int64\n",
       "dtype: object"
      ]
     },
     "execution_count": 4,
     "metadata": {},
     "output_type": "execute_result"
    }
   ],
   "source": [
    "df.dtypes"
   ]
  },
  {
   "cell_type": "markdown",
   "id": "f243e79f",
   "metadata": {
    "papermill": {
     "duration": 0.002855,
     "end_time": "2025-06-14T16:58:16.817012",
     "exception": false,
     "start_time": "2025-06-14T16:58:16.814157",
     "status": "completed"
    },
    "tags": []
   },
   "source": [
    "# Feature Engineering"
   ]
  },
  {
   "cell_type": "code",
   "execution_count": 5,
   "id": "8c83b5e8",
   "metadata": {
    "execution": {
     "iopub.execute_input": "2025-06-14T16:58:16.824917Z",
     "iopub.status.busy": "2025-06-14T16:58:16.823859Z",
     "iopub.status.idle": "2025-06-14T16:58:16.832256Z",
     "shell.execute_reply": "2025-06-14T16:58:16.831306Z"
    },
    "papermill": {
     "duration": 0.014005,
     "end_time": "2025-06-14T16:58:16.834019",
     "exception": false,
     "start_time": "2025-06-14T16:58:16.820014",
     "status": "completed"
    },
    "tags": []
   },
   "outputs": [],
   "source": [
    "def feature_engineering(df):\n",
    "    df = df.copy()\n",
    "    \n",
    "    weather_score = {\"Sunny\": 1, \"Clear\": 1, \"Partly cloudy\": 2, \"Cloudy\": 2, \"Raining\": 3, \"Overcast\": 2}\n",
    "    track_score = {\"Dry\": 1, \"Wet\": 2}\n",
    "    tire_score = {\"Soft\": 3, \"Medium\": 2, \"Hard\": 1}\n",
    "    penalty_score = {\"DNS\": 0, \"DNF\": 0, \"+3s\": 3, \"+5s\": 5, \"Ride Through\": 22, None: 0}\n",
    "    \n",
    "    df[\"Track_Surface_Index\"] = df[\"track\"].map(track_score) * df[\"Track_Condition\"].map(track_score)\n",
    "    df[\"Tire_Grip_Score\"] = df[\"Tire_Compound_Front\"].map(tire_score) + df[\"Tire_Compound_Rear\"].map(tire_score)\n",
    "    df['Composite_Performance'] = df['points'] + df['Championship_Points'] - df['position'] - df['Championship_Position']\n",
    "    df['Success_Rate'] = df['with_points'] / df['starts']\n",
    "    df['Average_Starts_Per_Year'] = df['starts'] / df['years_active']\n",
    "    df[\"Penalty_Severity\"] = df[\"Penalty\"].map(penalty_score).fillna(0)\n",
    "    \n",
    "    drop_columns = [\n",
    "        'points', 'Championship_Points', 'position', 'Championship_Position',\n",
    "        'with_points', 'finishes', 'years_active',\n",
    "        \"track\", \"Track_Condition\", \"Tire_Compound_Front\", \"Tire_Compound_Rear\",\n",
    "        'Unique ID', 'Rider_ID', 'rider_name', 'team_name', 'bike_name',\n",
    "        'circuit_name', 'shortname', 'min_year', 'max_year', 'Track_Temperature_Celsius',\n",
    "        'podiums', 'wins', 'Penalty'\n",
    "    ]\n",
    "    df.drop(columns=[col for col in drop_columns if col in df.columns], inplace=True)\n",
    "    return df"
   ]
  },
  {
   "cell_type": "markdown",
   "id": "2b46cf75",
   "metadata": {
    "papermill": {
     "duration": 0.002864,
     "end_time": "2025-06-14T16:58:16.840147",
     "exception": false,
     "start_time": "2025-06-14T16:58:16.837283",
     "status": "completed"
    },
    "tags": []
   },
   "source": [
    "# Training and Testing for TRAIN data"
   ]
  },
  {
   "cell_type": "code",
   "execution_count": 6,
   "id": "6236f338",
   "metadata": {
    "execution": {
     "iopub.execute_input": "2025-06-14T16:58:16.847361Z",
     "iopub.status.busy": "2025-06-14T16:58:16.847043Z",
     "iopub.status.idle": "2025-06-14T16:58:18.192518Z",
     "shell.execute_reply": "2025-06-14T16:58:18.191601Z"
    },
    "papermill": {
     "duration": 1.351317,
     "end_time": "2025-06-14T16:58:18.194588",
     "exception": false,
     "start_time": "2025-06-14T16:58:16.843271",
     "status": "completed"
    },
    "tags": []
   },
   "outputs": [],
   "source": [
    "df = feature_engineering(df)"
   ]
  },
  {
   "cell_type": "code",
   "execution_count": 7,
   "id": "2b44c8ad",
   "metadata": {
    "execution": {
     "iopub.execute_input": "2025-06-14T16:58:18.202777Z",
     "iopub.status.busy": "2025-06-14T16:58:18.202473Z",
     "iopub.status.idle": "2025-06-14T17:00:11.175649Z",
     "shell.execute_reply": "2025-06-14T17:00:11.172935Z"
    },
    "papermill": {
     "duration": 112.983727,
     "end_time": "2025-06-14T17:00:11.181984",
     "exception": false,
     "start_time": "2025-06-14T16:58:18.198257",
     "status": "completed"
    },
    "tags": []
   },
   "outputs": [
    {
     "name": "stderr",
     "output_type": "stream",
     "text": [
      "/usr/local/lib/python3.11/dist-packages/sklearn/preprocessing/_encoders.py:868: FutureWarning: `sparse` was renamed to `sparse_output` in version 1.2 and will be removed in 1.4. `sparse_output` is ignored unless you leave `sparse` to its default value.\n",
      "  warnings.warn(\n"
     ]
    },
    {
     "name": "stdout",
     "output_type": "stream",
     "text": [
      "\n",
      "✅ Final RMSE: 9.1964\n"
     ]
    }
   ],
   "source": [
    "X = df.drop(columns=[\"Lap_Time_Seconds\"])\n",
    "y = df[\"Lap_Time_Seconds\"]\n",
    "\n",
    "num_cols = X.select_dtypes(include=[\"int64\", \"float64\"]).columns.tolist()\n",
    "cat_cols = X.select_dtypes(include=[\"object\"]).columns.tolist()\n",
    "\n",
    "preprocessor = ColumnTransformer([\n",
    "    (\"num\", StandardScaler(), num_cols),\n",
    "    (\"cat\", OneHotEncoder(handle_unknown=\"ignore\", sparse=False), cat_cols)\n",
    "])\n",
    "\n",
    "X_train, X_val, y_train, y_val = train_test_split(X, y, test_size=0.2, random_state=42)\n",
    "\n",
    "# Preprocess \n",
    "preprocessor.fit(X_train)\n",
    "X_train_trans = preprocessor.transform(X_train)\n",
    "X_val_trans = preprocessor.transform(X_val)\n",
    "\n",
    "train_data = lgb.Dataset(X_train_trans, label=y_train)\n",
    "val_data = lgb.Dataset(X_val_trans, label=y_val, reference=train_data)\n",
    "\n",
    "# 3. Training LightGBM Model with Verbose Logging\n",
    "params = {\n",
    "    'objective': 'regression',\n",
    "    'metric': 'rmse',\n",
    "    'boosting_type': 'gbdt',\n",
    "    'learning_rate': 0.05,\n",
    "    'num_leaves': 64,\n",
    "    'max_depth': 7,\n",
    "    'verbosity': -1\n",
    "}\n",
    "\n",
    "model = lgb.train(\n",
    "    params,\n",
    "    train_data,\n",
    "    valid_sets=[train_data, val_data],\n",
    "    num_boost_round=1000\n",
    ")\n",
    "\n",
    "# Evaluation\n",
    "y_pred = model.predict(X_val_trans, num_iteration=model.best_iteration)\n",
    "rmse = np.sqrt(mean_squared_error(y_val, y_pred))\n",
    "print(f\"\\n✅ Final RMSE: {rmse:.4f}\")"
   ]
  },
  {
   "cell_type": "markdown",
   "id": "159c3695",
   "metadata": {
    "papermill": {
     "duration": 0.003213,
     "end_time": "2025-06-14T17:00:11.189497",
     "exception": false,
     "start_time": "2025-06-14T17:00:11.186284",
     "status": "completed"
    },
    "tags": []
   },
   "source": [
    "# For Validation Set\n"
   ]
  },
  {
   "cell_type": "code",
   "execution_count": 8,
   "id": "330d7770",
   "metadata": {
    "execution": {
     "iopub.execute_input": "2025-06-14T17:00:11.197796Z",
     "iopub.status.busy": "2025-06-14T17:00:11.197441Z",
     "iopub.status.idle": "2025-06-14T17:00:21.684727Z",
     "shell.execute_reply": "2025-06-14T17:00:21.682292Z"
    },
    "papermill": {
     "duration": 10.493895,
     "end_time": "2025-06-14T17:00:21.686710",
     "exception": false,
     "start_time": "2025-06-14T17:00:11.192815",
     "status": "completed"
    },
    "tags": []
   },
   "outputs": [
    {
     "name": "stderr",
     "output_type": "stream",
     "text": [
      "/usr/local/lib/python3.11/dist-packages/sklearn/preprocessing/_encoders.py:868: FutureWarning: `sparse` was renamed to `sparse_output` in version 1.2 and will be removed in 1.4. `sparse_output` is ignored unless you leave `sparse` to its default value.\n",
      "  warnings.warn(\n"
     ]
    },
    {
     "name": "stdout",
     "output_type": "stream",
     "text": [
      "\n",
      " RMSE for Validation Set: 9.2863\n"
     ]
    }
   ],
   "source": [
    "val_df = feature_engineering(val)\n",
    "\n",
    "# Split features and target\n",
    "X_val_final = val_df.drop(columns=[\"Lap_Time_Seconds\"])\n",
    "y_val_final = val_df[\"Lap_Time_Seconds\"]\n",
    "\n",
    "X_val_final_trans = preprocessor.fit_transform(X_val_final)\n",
    "\n",
    "# Predict using trained model\n",
    "y_val_pred = model.predict(X_val_final_trans, num_iteration=model.best_iteration)\n",
    "\n",
    "# RMSE\n",
    "val_rmse = np.sqrt(mean_squared_error(y_val_final, y_val_pred))\n",
    "print(f\"\\n RMSE for Validation Set: {val_rmse:.4f}\")"
   ]
  },
  {
   "cell_type": "markdown",
   "id": "c3d434e2",
   "metadata": {
    "papermill": {
     "duration": 0.003749,
     "end_time": "2025-06-14T17:00:21.695319",
     "exception": false,
     "start_time": "2025-06-14T17:00:21.691570",
     "status": "completed"
    },
    "tags": []
   },
   "source": [
    "# Final for test"
   ]
  },
  {
   "cell_type": "code",
   "execution_count": 9,
   "id": "374faa7a",
   "metadata": {
    "execution": {
     "iopub.execute_input": "2025-06-14T17:00:21.704015Z",
     "iopub.status.busy": "2025-06-14T17:00:21.703702Z",
     "iopub.status.idle": "2025-06-14T17:00:46.551532Z",
     "shell.execute_reply": "2025-06-14T17:00:46.550264Z"
    },
    "papermill": {
     "duration": 24.854666,
     "end_time": "2025-06-14T17:00:46.553607",
     "exception": false,
     "start_time": "2025-06-14T17:00:21.698941",
     "status": "completed"
    },
    "tags": []
   },
   "outputs": [
    {
     "name": "stdout",
     "output_type": "stream",
     "text": [
      "✅ submission.csv file created successfully!\n"
     ]
    }
   ],
   "source": [
    "test_df = pd.read_csv(\"/kaggle/input/burnout-datathon-ieeecsmuj/test.csv\")\n",
    "\n",
    "# 2. Unique ID for submission later \n",
    "submission_ids = test_df[\"Unique ID\"]\n",
    "\n",
    "test_df = feature_engineering(test_df)\n",
    "X_test = test_df.copy()\n",
    "\n",
    "X_test_trans = preprocessor.transform(X_test)\n",
    "y_test_pred = model.predict(X_test_trans, num_iteration=model.best_iteration)\n",
    "\n",
    "# 7. Creating submission DataFrame\n",
    "submission_df = pd.DataFrame({\n",
    "    \"Unique ID\": submission_ids,\n",
    "    \"Lap_Time_Seconds\": y_test_pred\n",
    "})\n",
    "\n",
    "# 8. Saving to CSV\n",
    "submission_df.to_csv(\"submission.csv\", index=False)\n",
    "print(\"✅ submission.csv file created successfully!\")\n"
   ]
  },
  {
   "cell_type": "code",
   "execution_count": null,
   "id": "f967971c",
   "metadata": {
    "papermill": {
     "duration": 0.003667,
     "end_time": "2025-06-14T17:00:46.561222",
     "exception": false,
     "start_time": "2025-06-14T17:00:46.557555",
     "status": "completed"
    },
    "tags": []
   },
   "outputs": [],
   "source": []
  }
 ],
 "metadata": {
  "kaggle": {
   "accelerator": "none",
   "dataSources": [
    {
     "databundleVersionId": 12651513,
     "sourceId": 104857,
     "sourceType": "competition"
    }
   ],
   "dockerImageVersionId": 31040,
   "isGpuEnabled": false,
   "isInternetEnabled": true,
   "language": "python",
   "sourceType": "notebook"
  },
  "kernelspec": {
   "display_name": "Python 3",
   "language": "python",
   "name": "python3"
  },
  "language_info": {
   "codemirror_mode": {
    "name": "ipython",
    "version": 3
   },
   "file_extension": ".py",
   "mimetype": "text/x-python",
   "name": "python",
   "nbconvert_exporter": "python",
   "pygments_lexer": "ipython3",
   "version": "3.11.11"
  },
  "papermill": {
   "default_parameters": {},
   "duration": 187.47796,
   "end_time": "2025-06-14T17:00:48.998896",
   "environment_variables": {},
   "exception": null,
   "input_path": "__notebook__.ipynb",
   "output_path": "__notebook__.ipynb",
   "parameters": {},
   "start_time": "2025-06-14T16:57:41.520936",
   "version": "2.6.0"
  }
 },
 "nbformat": 4,
 "nbformat_minor": 5
}
